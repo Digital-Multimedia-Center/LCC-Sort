{
 "cells": [
  {
   "cell_type": "code",
   "execution_count": 1,
   "metadata": {},
   "outputs": [],
   "source": [
    "import pandas as pd\n",
    "import re\n",
    "\n",
    "raw_df = pd.read_csv(\"input.csv\")\n",
    "expected_df = pd.read_csv(\"expected.csv\")"
   ]
  },
  {
   "cell_type": "code",
   "execution_count": 10,
   "metadata": {},
   "outputs": [],
   "source": [
    "raw_call_numbers = raw_df[\"item_effective_call_number\"]\n",
    "expected_call_numbers = expected_df[\"item_effective_call_number\"]"
   ]
  },
  {
   "cell_type": "code",
   "execution_count": null,
   "metadata": {},
   "outputs": [],
   "source": [
    "simple_sort = pd.DataFrame({\n",
    "    \"sorted_call_numbers\": raw_call_numbers.sort_values().reset_index(drop=True),\n",
    "    \"expected_call_numbers\": expected_call_numbers \n",
    "})"
   ]
  },
  {
   "cell_type": "markdown",
   "metadata": {},
   "source": [
    "A simple sort doesn't work, as we can see here on `index 9`, call number `B105` is mismatched with the expected `B72`, because the regular sort is going right to left and puts `2004` before `2008`.\n",
    "\n",
    "`simple_sort`\n",
    "\n",
    "| Index | Raw Call Number              | Expected Call Number        |\n",
    "|-------|------------------------------|-----------------------------|\n",
    "| 9     | B105.A8 E24 2004 VideoDVD, 1 | B72.G73 A7 2008 VideoDVD, 1 |\n",
    "| 10    | B105.W6 F465 2009 VideoDVD, 1 | B105.A8 E24 2004 VideoDVD, 1 |\n",
    "| 11    | B105.W6 F465 2009 VideoDVD, 1 | B105.W6 F465 2009 VideoDVD, 1 |\n",
    "| 12    | B105.W6 F465 2009 VideoDVD, 1 | B105.W6 F465 2009 VideoDVD, 1 |\n",
    "| 13    | B105.W6 F465 2009 VideoDVD, 1 | B105.W6 F465 2009 VideoDVD, 1 |\n",
    "| 14    | B105.W6 F465 2009 VideoDVD, 1 | B105.W6 F465 2009 VideoDVD, 1 |\n",
    "| 15    | B105.W6 F465 2009 VideoDVD, 1 | B105.W6 F465 2009 VideoDVD, 1 |\n",
    "| 16    | B108 .R66 2002 VideoDVD, 1   | B105.W6 F465 2009 VideoDVD, 1 |\n",
    "| 17    | B108 .R66 2002 VideoDVD, 1   | B108.R66 2002 VideoDVD, 1   |\n",
    "\n",
    "\n",
    "The raw call numbers need cleaning. When comparing values, some have missing decimal places, like this:\n",
    "\n",
    "`simple_sort`\n",
    "\n",
    "| Index | Raw Call Number         | Expected Call Number    |\n",
    "|-------|-------------------------|-------------------------|\n",
    "| 0     | 137 529 THS, 1          | 137.529 THS, 1         |\n",
    "| 1     | 138 093 THS, 1          | 138.093 THS, 1         |\n"
   ]
  },
  {
   "cell_type": "code",
   "execution_count": 5,
   "metadata": {},
   "outputs": [
    {
     "name": "stdout",
     "output_type": "stream",
     "text": [
      "137 529 THS, 1\n",
      "137 529 THS, 1\n"
     ]
    }
   ],
   "source": [
    "def normalize_call_number(call_number):\n",
    "    # Remove space between opening letters and numbers (e.g., \"PR 1109\" -> \"PR1109\")\n",
    "    call_number = re.sub(r'([A-Z]+) (\\d+)', r'\\1\\2', call_number)\n",
    "\n",
    "    # Remove space before the first period (e.g., \"PR1109 .A2\" -> \"PR1109.A2\")\n",
    "    call_number = re.sub(r'(\\d) \\.', r'\\1.', call_number)\n",
    "\n",
    "    return call_number\n",
    "\n",
    "\n",
    "raw_call_number = \"137 529 THS, 1\"\n",
    "fixed_call_number = normalize_call_number(raw_call_number)\n",
    "\n",
    "print(raw_call_number +  \"\\n\" + fixed_call_number)"
   ]
  },
  {
   "cell_type": "code",
   "execution_count": 6,
   "metadata": {},
   "outputs": [],
   "source": [
    "normalized_raw_callnumbers = raw_call_numbers.apply(normalize_call_number)\n",
    "\n",
    "raw_vs_normalized = pd.DataFrame({\n",
    "    \"raw\": raw_call_numbers,\n",
    "    \"normalized\": normalized_raw_callnumbers\n",
    "})\n",
    "\n",
    "raw_vs_normalized_different = raw_vs_normalized[raw_vs_normalized[\"raw\"] != raw_vs_normalized[\"normalized\"]]\n",
    "\n",
    "raw_vs_normalized_different.reset_index(drop=True, inplace=True)"
   ]
  },
  {
   "cell_type": "markdown",
   "metadata": {},
   "source": [
    "`raw_vs_normalized_different`, shows all rows that have been been changed after normalization. Now that the rows have been normalized, we need a comparator made for the LCC classification."
   ]
  },
  {
   "cell_type": "code",
   "execution_count": 7,
   "metadata": {},
   "outputs": [
    {
     "name": "stdout",
     "output_type": "stream",
     "text": [
      "Warning: Couldn't parse call number: 137 529 THS, 1\n",
      "137 529 THS, 1 ['137 529 THS, 1']\n",
      "HV6049.O437 2005 VideoDVD, 1 ['HV', 6049, -1, 'O', 437, '', 0, 2005, 'VideoDVD, 1']\n",
      "PS3563.C3868 H68 1998 VideoDVD, 1 ['PS', 3563, -1, 'C', 3868, 'H', 68, 1998, 'VideoDVD, 1']\n"
     ]
    }
   ],
   "source": [
    "# Regex updated to capture trailing media or extra info as a literal group\n",
    "loc_regex = re.compile(r'''\n",
    "    ^\\s*\n",
    "    ([A-Z]{1,3})              # Class letters\n",
    "    ([0-9]{1,4})              # Class number\n",
    "    \\.?\n",
    "    ([0-9]{1,3})?             # Decimal subdivision (optional)\n",
    "    \\s*\\.?\n",
    "    ([A-Z]{1})                # First cutter letter\n",
    "    ([0-9]{1,})               # First cutter number\n",
    "    \\s*\n",
    "    (?:\n",
    "        ([A-Z]{1,2})          # Optional second cutter letter\n",
    "        ([0-9]{1,})?          # Optional second cutter number\n",
    "    )?\n",
    "    \\s*\n",
    "    ([0-9]{4})?               # Optional year\n",
    "    (.*)?                     # Trailing media\n",
    "''', re.VERBOSE)\n",
    "\n",
    "def loc_sort_key(call_number):\n",
    "    match = loc_regex.match(call_number)\n",
    "    if not match:\n",
    "        print(f\"Warning: Couldn't parse call number: {call_number}\")\n",
    "        return [call_number]\n",
    "\n",
    "    groups = match.groups()\n",
    "\n",
    "    class_letters     = groups[0] or ''\n",
    "    class_number      = int(groups[1]) if groups[1] else 0\n",
    "    decimal_part      = int(groups[2]) if groups[2] else -1\n",
    "    cutter1_letter    = groups[3] or ''\n",
    "    cutter1_number    = int(groups[4]) if groups[4] else 0\n",
    "    cutter2_letter    = groups[5] or ''\n",
    "    cutter2_number    = int(groups[6]) if groups[6] else 0\n",
    "    year              = int(groups[7]) if groups[7] else 0\n",
    "    trailing_info     = groups[8].strip() if groups[8] else ''\n",
    "\n",
    "    return [\n",
    "        class_letters,\n",
    "        class_number,\n",
    "        decimal_part,\n",
    "        cutter1_letter,\n",
    "        cutter1_number,\n",
    "        cutter2_letter,\n",
    "        cutter2_number,\n",
    "        year,\n",
    "        trailing_info\n",
    "    ]\n",
    "\n",
    "print(raw_call_number, loc_sort_key(raw_call_number))\n",
    "print(\"HV6049.O437 2005 VideoDVD, 1\", loc_sort_key(\"HV6049.O437 2005 VideoDVD, 1\"))\n",
    "print(\"PS3563.C3868 H68 1998 VideoDVD, 1\", loc_sort_key(\"PS3563.C3868 H68 1998 VideoDVD, 1\"))"
   ]
  },
  {
   "cell_type": "markdown",
   "metadata": {},
   "source": [
    "That first call number is a dewey decimal call number."
   ]
  },
  {
   "cell_type": "code",
   "execution_count": 8,
   "metadata": {},
   "outputs": [
    {
     "name": "stdout",
     "output_type": "stream",
     "text": [
      "Warning: Couldn't parse call number: N6493 1960.W46 2005 VideoDVD, 1\n",
      "Warning: Couldn't parse call number: D769.31 92nd .I67 2010 VideoDVD, 1\n",
      "Warning: Couldn't parse call number: oversize, ML421.L4 U47 2011, 1\n",
      "Warning: Couldn't parse call number: PN1997.2. .X33 2006 VideoDVD, 1\n",
      "Warning: Couldn't parse call number: D790.22 8th .K54 2011, 1\n",
      "Warning: Couldn't parse call number: DS777.5425.P43 W45 2004 VideoDVD, 1\n",
      "Warning: Couldn't parse call number: JK2313 1968.C54 1996a VideoDVD, 1\n",
      "Warning: Couldn't parse call number: 138 093 THS, 1\n",
      "Warning: Couldn't parse call number: GV722 1972.O54 2001 VideoDVD, 1\n",
      "Warning: Couldn't parse call number: HV636 2005.N4 T76 2008 VideoDVD, 1\n",
      "Warning: Couldn't parse call number: DS777.5314.N36 2008 VideoDVD, 1\n",
      "Warning: Couldn't parse call number: DS777.5425.H83 W45 2004 VideoDVD, 1\n",
      "Warning: Couldn't parse call number: GV943.5 2010.W67 2010 VideoDVD, 1\n",
      "Warning: Couldn't parse call number: DS371.4123.O64 G73 2011, 1\n",
      "Warning: Couldn't parse call number: DS371.4123.M37 B388 2011 Blu-ray Video, 1\n",
      "Warning: Couldn't parse call number: HV600 2008.W46 A15 2009 Region 3 VideoDVD, 1\n",
      "Warning: Couldn't parse call number: HB3717 2008.H457 2012 VideoDVD, 1\n",
      "Warning: Couldn't parse call number: HB3717 1929.G74 2002 VideoDVD, 1\n",
      "Warning: Couldn't parse call number: HV636 2005.L8 W496 2006 VideoDVD, 2\n",
      "Warning: Couldn't parse call number: HB3717 1929.W546 2010 VideoDVD, 1\n",
      "Warning: Couldn't parse call number: Oversize PN1979.S5 Y66 2005 VideoDVD, 1\n",
      "Warning: Couldn't parse call number: 137 529 THS, 1\n",
      "Warning: Couldn't parse call number: DK508.8377.H37 2004 VideoDVD, 1\n",
      "Warning: Couldn't parse call number: DS777.5316.N36 C66 2010 VideoDVD, 1\n",
      "Warning: Couldn't parse call number: PN1997.2. N54 2022 Region 3 VideoDVD, 1\n",
      "Warning: Couldn't parse call number: HV600 2010.H2 A8 2013 VideoDVD, 1\n",
      "Warning: Couldn't parse call number: HV636 2005.L8 A45 2006 VideoDVD, 1\n",
      "Warning: Couldn't parse call number: JK526 2012.E54 2013, 1\n",
      "Warning: Couldn't parse call number: HV636 2005.U6 2009 VideoDVD, 1\n",
      "Warning: Couldn't parse call number: D570.33 339th .V65 2009 VideoDVD, 1\n",
      "Warning: Couldn't parse call number: DD253.28 1934.T7 2000 VideoDVD, 1\n",
      "Warning: Couldn't parse call number: DS371.4123.K67 J858 2010 VideoDVD, 1\n",
      "Warning: Couldn't parse call number: HV600 2010.H2 H357 2011 VideoDVD, 1\n",
      "Warning: Couldn't parse call number: JK526 2008.E442 2009, 1\n",
      "Warning: Couldn't parse call number: DS371.4123.K67 J858 2010 VideoDVD, 2\n",
      "Warning: Couldn't parse call number: HV636 2005.L8 W496 2006 VideoDVD, 1\n",
      "Warning: Couldn't parse call number: HF5415.12615.N43 2011 VideoDVD, 1\n",
      "Warning: Couldn't parse call number: DS777.5425.L53 W45 2004 VideoDVD, 1\n",
      "Warning: Couldn't parse call number: PN1995.9..D555 E55 2008 VideoDVD, 1\n",
      "Warning: Couldn't parse call number: DS371.4123.M37 B388 2011 VideoDVD, 1\n",
      "Warning: Couldn't parse call number: HQ759.9145.F36 2003 VideoDVD, 1\n",
      "Warning: Couldn't parse call number: GV722 1936.O49 2006 VideoDVD, 1\n",
      "Warning: Couldn't parse call number: D769.31 100th .B49 2001 VideoDVD, 1\n",
      "Warning: Couldn't parse call number: HB3717 1929.G74 2002 VideoDVD, 1\n",
      "Warning: Couldn't parse call number: HV600 2011.T64 P73 2012 VideoDVD, 1\n",
      "Warning: Couldn't parse call number: HV636 2005.N4 D68 2008 VideoDVD, 1\n",
      "Warning: Couldn't parse call number: UA29 65th .B675 2007 VideoDVD, 1\n",
      "Warning: Couldn't parse call number: DT546.3858.C34 2017 VideoDVD, 1\n",
      "Warning: Couldn't parse call number: GV722 2008.C55 2008 VideoDVD, 1\n",
      "Warning: Couldn't parse call number: GV943.5 2010.M25 2011, 1\n",
      "Warning: Couldn't parse call number: DD253.28 1934.T7 2001 VideoDVD, 1\n",
      "Warning: Couldn't parse call number: oversize, PN1995.9.G63 G637 2019 Blu-ray Video, 1\n"
     ]
    },
    {
     "name": "stderr",
     "output_type": "stream",
     "text": [
      "/var/folders/r7/zs0r39wj3jjgsrj0zy75r9d40000gn/T/ipykernel_8846/2958817411.py:4: DeprecationWarning: DataFrameGroupBy.apply operated on the grouping columns. This behavior is deprecated, and in a future version of pandas the grouping columns will be excluded from the operation. Either pass `include_groups=False` to exclude the groupings or explicitly select the grouping columns after groupby to silence this warning.\n",
      "  raw_vs_normalized.groupby(\"sort_key_len\", group_keys=False).apply(\n"
     ]
    }
   ],
   "source": [
    "raw_vs_normalized[\"loc_sort_key\"] = raw_vs_normalized[\"normalized\"].apply(loc_sort_key)\n",
    "raw_vs_normalized[\"sort_key_len\"] = raw_vs_normalized[\"loc_sort_key\"].apply(len)\n",
    "\n",
    "raw_vs_normalized.groupby(\"sort_key_len\", group_keys=False).apply(\n",
    "    lambda x: x.sample(n=min(len(x), 5), random_state=42)\n",
    ")\n",
    "\n",
    "normalized_sort = raw_vs_normalized.sort_values(by=\"loc_sort_key\", key=lambda x: x.apply(tuple))"
   ]
  },
  {
   "cell_type": "markdown",
   "metadata": {},
   "source": [
    "With this normalized sort I now want to run an analysis to see how close my normalized sort is to the expected value, this sort is close enough such that I don't see any differences with my eyes (but there are 15,000 values for a reason)"
   ]
  },
  {
   "cell_type": "code",
   "execution_count": 40,
   "metadata": {},
   "outputs": [
    {
     "name": "stdout",
     "output_type": "stream",
     "text": [
      "[]\n",
      "Total mismatches: 0\n"
     ]
    }
   ],
   "source": [
    "expected = expected_call_numbers \n",
    "actual = normalized_sort[\"raw\"]\n",
    "\n",
    "# Step 1: Filter actual to only keep values that exist in expected\n",
    "actual_filtered = [item for item in actual if item in expected]\n",
    "\n",
    "# Step 2: Truncate expected to the length of actual_filtered\n",
    "expected_filtered = [item for item in expected if item in actual_filtered]\n",
    "\n",
    "# Optional sanity check\n",
    "assert len(expected_filtered) == len(actual_filtered), \"Lists are still unequal in length!\"\n",
    "\n",
    "print(actual_filtered)\n",
    "\n",
    "# Step 3: Compare the two lists and find mismatches\n",
    "differences = []\n",
    "for i, (exp_val, act_val) in enumerate(zip(expected_filtered, actual_filtered)):\n",
    "    if exp_val != act_val:\n",
    "        differences.append((i, exp_val, act_val))\n",
    "\n",
    "# Summary\n",
    "print(f\"Total mismatches: {len(differences)}\")\n",
    "for i, expected_val, actual_val in differences[:10]:  # Show a few\n",
    "    print(f\"Index {i}: expected '{expected_val}', got '{actual_val}'\")\n"
   ]
  },
  {
   "cell_type": "markdown",
   "metadata": {},
   "source": [
    "The above code is useless because the filtered lists are 0 in length lmao."
   ]
  },
  {
   "cell_type": "markdown",
   "metadata": {},
   "source": [
    "# Final function and helper code that takes in a DF and outputs a correctly sorted DF"
   ]
  },
  {
   "cell_type": "code",
   "execution_count": null,
   "metadata": {},
   "outputs": [],
   "source": [
    "def normalize_call_number(call_number):\n",
    "    # Remove space between opening letters and numbers (e.g., \"PR 1109\" -> \"PR1109\")\n",
    "    call_number = re.sub(r'([A-Z]+) (\\d+)', r'\\1\\2', call_number)\n",
    "\n",
    "    # Remove space before the first period (e.g., \"PR1109 .A2\" -> \"PR1109.A2\")\n",
    "    call_number = re.sub(r'(\\d) \\.', r'\\1.', call_number)\n",
    "\n",
    "    return call_number\n",
    "\n",
    "# Regex updated to capture trailing media or extra info as a literal group\n",
    "loc_regex = re.compile(r'''\n",
    "    ^\\s*\n",
    "    ([A-Z]{1,3})              # Class letters\n",
    "    ([0-9]{1,4})              # Class number\n",
    "    \\.?\n",
    "    ([0-9]{1,3})?             # Decimal subdivision (optional)\n",
    "    \\s*\\.?\n",
    "    ([A-Z]{1})                # First cutter letter\n",
    "    ([0-9]{1,})               # First cutter number\n",
    "    \\s*\n",
    "    (?:\n",
    "        ([A-Z]{1,2})          # Optional second cutter letter\n",
    "        ([0-9]{1,})?          # Optional second cutter number\n",
    "    )?\n",
    "    \\s*\n",
    "    ([0-9]{4})?               # Optional year\n",
    "    (.*)?                     # Trailing media\n",
    "''', re.VERBOSE)\n",
    "\n",
    "def loc_sort_key(call_number):\n",
    "    match = loc_regex.match(call_number)\n",
    "    if not match:\n",
    "        print(f\"Warning: Couldn't parse call number: {call_number}\")\n",
    "        return [call_number]\n",
    "\n",
    "    groups = match.groups()\n",
    "\n",
    "    class_letters     = groups[0] or ''\n",
    "    class_number      = int(groups[1]) if groups[1] else 0\n",
    "    decimal_part      = int(groups[2]) if groups[2] else -1\n",
    "    cutter1_letter    = groups[3] or ''\n",
    "    cutter1_number    = int(groups[4]) if groups[4] else 0\n",
    "    cutter2_letter    = groups[5] or ''\n",
    "    cutter2_number    = int(groups[6]) if groups[6] else 0\n",
    "    year              = int(groups[7]) if groups[7] else 0\n",
    "    trailing_info     = groups[8].strip() if groups[8] else ''\n",
    "\n",
    "    return [\n",
    "        class_letters,\n",
    "        class_number,\n",
    "        decimal_part,\n",
    "        cutter1_letter,\n",
    "        cutter1_number,\n",
    "        cutter2_letter,\n",
    "        cutter2_number,\n",
    "        year,\n",
    "        trailing_info\n",
    "    ]"
   ]
  },
  {
   "cell_type": "code",
   "execution_count": null,
   "metadata": {},
   "outputs": [],
   "source": [
    "def clean(raw_df):    \n",
    "    # Normalize the call numbers\n",
    "    sorted_df = raw_df.copy()\n",
    "    sorted_df.insert(sorted_df.columns.get_loc(\"item_effective_call_number\") + 1, \"normalized_effective_call_number\", sorted_df[\"item_effective_call_number\"].apply(normalize_call_number)) \n",
    "    \n",
    "    # Split call numbers into correct categories\n",
    "    sorted_df.insert(sorted_df.columns.get_loc(\"item_effective_call_number\") + 2, \"split_call_numbers\", sorted_df[\"normalized_effective_call_number\"].apply(loc_sort_key)) \n",
    "\n",
    "    # Sort call numbers into correct order\n",
    "    sorted_df.sort_values(by=\"split_call_numbers\", inplace = True,  key=lambda x: x.apply(tuple))\n",
    "    \n",
    "    return sorted_df"
   ]
  }
 ],
 "metadata": {
  "kernelspec": {
   "display_name": ".venv",
   "language": "python",
   "name": "python3"
  },
  "language_info": {
   "codemirror_mode": {
    "name": "ipython",
    "version": 3
   },
   "file_extension": ".py",
   "mimetype": "text/x-python",
   "name": "python",
   "nbconvert_exporter": "python",
   "pygments_lexer": "ipython3",
   "version": "3.13.1"
  }
 },
 "nbformat": 4,
 "nbformat_minor": 2
}
